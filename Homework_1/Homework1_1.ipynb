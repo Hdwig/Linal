{
 "cells": [
  {
   "cell_type": "code",
   "execution_count": 12,
   "id": "eb82f98f",
   "metadata": {},
   "outputs": [],
   "source": [
    "import numpy as np\n",
    "from numpy.linalg import norm"
   ]
  },
  {
   "cell_type": "markdown",
   "id": "84599fa6",
   "metadata": {},
   "source": [
    "1. Найдите скалярное произведение векторов  𝑥,𝑦∈ℝ :\n",
    "а)  𝑥=(0,−3,6), 𝑦=(−4,7,9); \n",
    "б)  𝑥=(7,−4,0,1), 𝑦=(−3,1,11,2)."
   ]
  },
  {
   "cell_type": "code",
   "execution_count": 13,
   "id": "15591d29",
   "metadata": {},
   "outputs": [
    {
     "name": "stdout",
     "output_type": "stream",
     "text": [
      "скалярное произведение первых векторов: 33\n",
      "скалярное произведение вторых векторов: -23\n"
     ]
    }
   ],
   "source": [
    "# 1) Найдите скалярное произведение векторов  𝑥,𝑦∈ℝ :\n",
    "# а\n",
    "a1 = np.array([0,-3,6])\n",
    "b1 = np.array([-4,7,9])\n",
    "c1 = (a1 @ b1)\n",
    "print(f\"скалярное произведение первых векторов: {c1}\")\n",
    "# б\n",
    "a2 = np.array([7,-4,0,1])\n",
    "b2 = np.array([-3,1,11,2])\n",
    "c2 = a2.dot(b2)\n",
    "print(f\"скалярное произведение вторых векторов: {c2}\")"
   ]
  },
  {
   "cell_type": "markdown",
   "id": "46d6f207",
   "metadata": {},
   "source": [
    "2. Найдите нормы векторов  (4,2,4)  и  (12,3,4)  и угол между ними."
   ]
  },
  {
   "cell_type": "code",
   "execution_count": 16,
   "id": "3f7e4057",
   "metadata": {},
   "outputs": [
    {
     "name": "stdout",
     "output_type": "stream",
     "text": [
      "l1 Манхэттенская норма вектора a3: 10.0\n",
      "l2 Евклидова норма вектора а3: 6.0\n",
      "l1 Манхэттенская норма вектора b3: 19.0\n",
      "l2 Евклидова норма вектора b3: 13.0\n",
      "Угол между векторами составляет: 0.8974358974358974\n"
     ]
    }
   ],
   "source": [
    "a3 = np.array([4,2,4])\n",
    "b3 = np.array([12,3,4])\n",
    "print(f'l1 Манхэттенская норма вектора a3: {norm(a3, ord=1)}')\n",
    "print(f'l2 Евклидова норма вектора а3: {norm(a3, ord=2)}')\n",
    "print(f'l1 Манхэттенская норма вектора b3: {norm(b3, ord=1)}')\n",
    "print(f'l2 Евклидова норма вектора b3: {norm(b3, ord=2)}')\n",
    "print(f\"Угол между векторами составляет: {np.dot(a3, b3) / norm(a3) / norm(b3)}\")\n"
   ]
  },
  {
   "cell_type": "markdown",
   "id": "0d5f1f05",
   "metadata": {},
   "source": [
    "3. Определите, будет ли линейное пространство евклидовым, если за скалярное произведение принять:\n",
    "а) произведение длин векторов;\n",
    "б) утроенное обычное скалярное произведение векторов?"
   ]
  },
  {
   "cell_type": "code",
   "execution_count": null,
   "id": "98c17304",
   "metadata": {},
   "outputs": [],
   "source": [
    "a - линейное пространство будет являться евклидовым, так как оно удовлетворяет всем 4 аксиомам для евклидова пространства.\n",
    "При том, что скаларное произведение и является произведение длин векторов  (или я что то не понял)\n",
    "б - да, так как это не мешает выполнению всех 4 аксиом, так как по 2 аксиоме любую лямбду мы можем вынести\n",
    "при вычеслении скалярного произведения."
   ]
  },
  {
   "cell_type": "code",
   "execution_count": null,
   "id": "79e34d84",
   "metadata": {},
   "outputs": [],
   "source": [
    "4. Выясните, какие из нижеперечисленных векторов образуют ортонормированный базис в линейном пространстве  ℝ3 :\n",
    "а)  (1,0,0),(0,0,1); \n",
    "б)  (1/√2,−1/√2,0),(1/√2,1/√2,0),(0,0,1); \n",
    "в)  (1/2,−1/2,0),(0,1/2,1/2),(0,0,1); \n",
    "г)  (1,0,0),(0,1,0),(0,0,1)?"
   ]
  },
  {
   "cell_type": "code",
   "execution_count": null,
   "id": "dd5c92a4",
   "metadata": {},
   "outputs": [],
   "source": [
    "а) не является базисом, так как для базиса в трехмерном пространстве должно быть как минимум 3 вектора являющиеся ортогональными\n",
    "б) \n",
    "в) не являтеся ортонормиолванным базисом, так как не удовлетворяет ни одному из условий\n",
    "г) является ортонормированным базисом, так как удовлетворяет двум условиям."
   ]
  },
  {
   "cell_type": "code",
   "execution_count": 27,
   "id": "64120216",
   "metadata": {},
   "outputs": [
    {
     "name": "stdout",
     "output_type": "stream",
     "text": [
      "0.9999999999999998\n",
      "0.9999999999999998\n",
      "1\n",
      "0.0\n",
      "0.0\n",
      "0.0\n"
     ]
    }
   ],
   "source": [
    "# Б)\n",
    "a5 = np.array([1/(np.sqrt(2)),-1/(np.sqrt(2)),0])\n",
    "b5 = np.array([1/(np.sqrt(2)),1/(np.sqrt(2)),0])\n",
    "c5 = np.array([0,0,1])\n",
    "print(a5@a5)\n",
    "print(b5@b5)\n",
    "print(c5@c5)\n",
    "print(c5@a5)\n",
    "print(a5@b5)\n",
    "print(c5@b5)"
   ]
  },
  {
   "cell_type": "code",
   "execution_count": 20,
   "id": "ad95537c",
   "metadata": {},
   "outputs": [
    {
     "name": "stdout",
     "output_type": "stream",
     "text": [
      "1\n",
      "0.5\n",
      "0.5\n",
      "0.0\n",
      "-0.25\n",
      "0.5\n"
     ]
    }
   ],
   "source": [
    "В)\n",
    "a4 = np.array([1/2,-1/2,0])\n",
    "b4 = np.array([0,1/2,1/2])\n",
    "c4 = np.array([0,0,1])\n",
    "print(c4@c4)\n",
    "print(a4@a4)\n",
    "print(b4@b4)\n",
    "print(c4@a4)\n",
    "print(a4@b4)\n",
    "print(c4@b4)"
   ]
  },
  {
   "cell_type": "code",
   "execution_count": 28,
   "id": "65b2109d",
   "metadata": {},
   "outputs": [
    {
     "data": {
      "text/plain": [
       "0.7071067811865475"
      ]
     },
     "execution_count": 28,
     "metadata": {},
     "output_type": "execute_result"
    }
   ],
   "source": [
    "1/(np.sqrt(2))"
   ]
  },
  {
   "cell_type": "code",
   "execution_count": null,
   "id": "ee47af7a",
   "metadata": {},
   "outputs": [],
   "source": []
  }
 ],
 "metadata": {
  "kernelspec": {
   "display_name": "Python 3 (ipykernel)",
   "language": "python",
   "name": "python3"
  },
  "language_info": {
   "codemirror_mode": {
    "name": "ipython",
    "version": 3
   },
   "file_extension": ".py",
   "mimetype": "text/x-python",
   "name": "python",
   "nbconvert_exporter": "python",
   "pygments_lexer": "ipython3",
   "version": "3.10.4"
  }
 },
 "nbformat": 4,
 "nbformat_minor": 5
}
