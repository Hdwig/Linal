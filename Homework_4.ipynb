{
 "cells": [
  {
   "cell_type": "markdown",
   "id": "26352125",
   "metadata": {},
   "source": [
    "## 1. Решите систему уравнений методом Гаусса:"
   ]
  },
  {
   "cell_type": "code",
   "execution_count": 3,
   "id": "1abee5a1",
   "metadata": {},
   "outputs": [],
   "source": [
    "# x1 = -3x4 - 2\n",
    "# x2 = 6.5x4\n",
    "# x3 = 1.5x4-2"
   ]
  },
  {
   "cell_type": "markdown",
   "id": "1b8fff2c",
   "metadata": {},
   "source": [
    "## 2. Проверьте на совместность и выясните, сколько решений будет иметь система линейных уравнений:"
   ]
  },
  {
   "cell_type": "code",
   "execution_count": null,
   "id": "6f635fea",
   "metadata": {},
   "outputs": [],
   "source": [
    "а) 1\n",
    "б) 0\n",
    "в) бесконечно много"
   ]
  },
  {
   "cell_type": "markdown",
   "id": "8cd11a68",
   "metadata": {},
   "source": [
    "## 3. Проверьте на совместность и выясните, сколько решений будет иметь система линейных уравнений, заданная расширенной матрицей:"
   ]
  },
  {
   "cell_type": "code",
   "execution_count": 4,
   "id": "f2675376",
   "metadata": {},
   "outputs": [],
   "source": [
    "# будет иметь 1 решение\n",
    "x1 = 83/30\n",
    "x2 = 0.3\n",
    "x3 = 4/3\n",
    "x4 = 0.5"
   ]
  },
  {
   "cell_type": "markdown",
   "id": "cac6dc98",
   "metadata": {},
   "source": [
    "## 4. Дана система линейных уравнений, заданная расширенной матрицей:"
   ]
  },
  {
   "cell_type": "code",
   "execution_count": null,
   "id": "f3e84a85",
   "metadata": {},
   "outputs": [],
   "source": [
    "если мы от 3 строки отнимем 2, то в 3 строке все значения исходной матрицы станут равны 3\n",
    "далее мы отнимаем от второй строки 1 и получаем такой же разультат как и с 3 строкой\n",
    "затем вычитаем из 3 строки вторую или наоборот и получаем, что система считается несовместной\n",
    "1)\n",
    "a\n",
    "b-a\n",
    "(c-d) - (b-a)\n",
    "2)\n",
    "a\n",
    "(b-a) - (c-d)\n",
    "c-d"
   ]
  },
  {
   "cell_type": "markdown",
   "id": "6e4ba90f",
   "metadata": {},
   "source": [
    "## 1. Решите систему уравнений методом Крамера:"
   ]
  },
  {
   "cell_type": "code",
   "execution_count": null,
   "id": "f3d2fbd4",
   "metadata": {},
   "outputs": [],
   "source": [
    "а)\n",
    "х1 = 5\n",
    "х2 = 2\n",
    "10, -2, 1\n",
    "б)a\n",
    "x1 = 3.395\n",
    "x2 = 5\n",
    "x3 = -9.75"
   ]
  }
 ],
 "metadata": {
  "kernelspec": {
   "display_name": "Python 3 (ipykernel)",
   "language": "python",
   "name": "python3"
  },
  "language_info": {
   "codemirror_mode": {
    "name": "ipython",
    "version": 3
   },
   "file_extension": ".py",
   "mimetype": "text/x-python",
   "name": "python",
   "nbconvert_exporter": "python",
   "pygments_lexer": "ipython3",
   "version": "3.10.4"
  }
 },
 "nbformat": 4,
 "nbformat_minor": 5
}
