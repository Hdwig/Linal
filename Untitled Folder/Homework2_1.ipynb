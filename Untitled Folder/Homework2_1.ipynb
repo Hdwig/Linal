{
 "cells": [
  {
   "cell_type": "code",
   "execution_count": null,
   "id": "33ebdf49",
   "metadata": {},
   "outputs": [],
   "source": [
    "1. Установите, какие произведения матриц  𝐴𝐵  и  𝐵𝐴  определены, и найдите размерности полученных матриц:\n",
    "\n",
    "а)  𝐴  — матрица  4×2 ,  𝐵  — матрица  4×2 ;\n",
    "\n",
    "б)  𝐴  — матрица  2×5 ,  𝐵  — матрица  5×3 ;\n",
    "\n",
    "в)  𝐴  — матрица  8×3 ,  𝐵  — матрица  3×8 ;\n",
    "\n",
    "г)  𝐴  — квадратная матрица  4×4 ,  𝐵  — квадратная матрица  4×4 ."
   ]
  },
  {
   "cell_type": "code",
   "execution_count": null,
   "id": "76326ef7",
   "metadata": {},
   "outputs": [],
   "source": [
    "а) Произведение матрицы невозможно, только в случает транспонироваия матрицы A или B\n",
    "б) Возможно только произведение матрицы А на В. В данном случае получиться матрица 2х3\n",
    "в) Возможно произведение матриц в любом порядке. В случает АВ получится матрица 8х8, а в случае ВА - получится 3х3\n",
    "г) во всех случаях получится матрица размерностью 4х4"
   ]
  },
  {
   "cell_type": "code",
   "execution_count": null,
   "id": "2bced70e",
   "metadata": {},
   "outputs": [],
   "source": [
    "2. Найдите сумму и произведение матриц  𝐴=(13−20)  и  𝐵=(40−15)"
   ]
  },
  {
   "cell_type": "code",
   "execution_count": 86,
   "id": "0c52e3f8",
   "metadata": {},
   "outputs": [
    {
     "name": "stdout",
     "output_type": "stream",
     "text": [
      "[[ 5 -3]\n",
      " [ 3  5]]\n",
      "[[  4 -11]\n",
      " [ 12  -3]]\n"
     ]
    }
   ],
   "source": [
    "import numpy as np\n",
    "a1 = np.array([[1, -2], \n",
    "               [3, 0]])\n",
    "b1 = np.array([[4, -1], \n",
    "               [0, 5]])\n",
    "print(a1+b1)\n",
    "print(a1@b1)"
   ]
  },
  {
   "cell_type": "code",
   "execution_count": 9,
   "id": "d6b5f425",
   "metadata": {},
   "outputs": [
    {
     "name": "stdout",
     "output_type": "stream",
     "text": [
      "[[11 -5]\n",
      " [ 9 24]]\n"
     ]
    }
   ],
   "source": [
    "# задание №3\n",
    "a2 = np.array([[1, 7],\n",
    "               [3, 6]])\n",
    "b2 = np.array([[0, 5],\n",
    "               [2, -1]])\n",
    "c2 = np.array([[2, -4],\n",
    "               [1, 1]])\n",
    "print(3*a2-(2*b2) + 4*c2)"
   ]
  },
  {
   "cell_type": "code",
   "execution_count": 87,
   "id": "98d6fde7",
   "metadata": {},
   "outputs": [
    {
     "name": "stdout",
     "output_type": "stream",
     "text": [
      "Умножение транспонированной матрицы на обычную\n",
      "[[45  0]\n",
      " [ 0 14]]\n",
      "Умножение обычной матрицы на транспонированную\n",
      "[[17 18 11]\n",
      " [18 29  4]\n",
      " [11  4 13]]\n"
     ]
    }
   ],
   "source": [
    "# Задание №4\n",
    "import numpy as np\n",
    "a3 = np.array([[4, 1],\n",
    "               [5, -2],\n",
    "               [2, 3]])\n",
    "print(f\"Умножение транспонированной матрицы на обычную\\n{a3.T@a3}\")\n",
    "print(f\"Умножение обычной матрицы на транспонированную\\n{a3@a3.T}\")"
   ]
  },
  {
   "cell_type": "code",
   "execution_count": 88,
   "id": "30ae1379",
   "metadata": {},
   "outputs": [],
   "source": [
    "# Задание номер 5\n",
    "import numpy as np\n",
    "def multy(x, y):\n",
    "\n",
    "    final_matrix = np.zeros((x.shape[0], y.shape[1]))\n",
    "\n",
    "    if x.shape[1] != y.shape[0]:\n",
    "        return(print(\"Перемножение данных матриц невозможно, так как их размерность не позволяет это сделать\"))\n",
    "    \n",
    "    else:\n",
    "        for i in range(0, y.shape[1]):\n",
    "            for j in range(0, x.shape[0]):\n",
    "                for k in range(0, x.shape[1]):\n",
    "                    y_f = y.T\n",
    "                    y_str = y_f[i]\n",
    "                    time_perem = x[j,k] * y_str[k]\n",
    "                    final_matrix[j, i] += time_perem\n",
    "    return(final_matrix)"
   ]
  },
  {
   "cell_type": "code",
   "execution_count": 89,
   "id": "7e2e6e97",
   "metadata": {},
   "outputs": [
    {
     "name": "stdout",
     "output_type": "stream",
     "text": [
      "[[17.  8.  9.]\n",
      " [19.  8. 10.]\n",
      " [35.  8. 14.]]\n",
      "[[17  8  9]\n",
      " [19  8 10]\n",
      " [35  8 14]]\n"
     ]
    }
   ],
   "source": [
    "A = np.array([[1, 0, 6, 1], [2, 1, 6, 1], [10, 5, 6, 1]])\n",
    "B = np.array([[2, 0, 0], [0, 0, 1],[0, 0, 1],[15, 8, 3]])\n",
    "\n",
    "print(multy(A, B))\n",
    "print(A@B)\n",
    "# print(f'Матрица A\\n{A}')\n",
    "# print(f'Матрица B\\n{B}')\n",
    "# print(f'Матрица B\\n{B.T}')"
   ]
  },
  {
   "cell_type": "code",
   "execution_count": null,
   "id": "5418a1b0",
   "metadata": {},
   "outputs": [],
   "source": []
  }
 ],
 "metadata": {
  "kernelspec": {
   "display_name": "Python 3 (ipykernel)",
   "language": "python",
   "name": "python3"
  },
  "language_info": {
   "codemirror_mode": {
    "name": "ipython",
    "version": 3
   },
   "file_extension": ".py",
   "mimetype": "text/x-python",
   "name": "python",
   "nbconvert_exporter": "python",
   "pygments_lexer": "ipython3",
   "version": "3.10.4"
  }
 },
 "nbformat": 4,
 "nbformat_minor": 5
}
