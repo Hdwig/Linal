{
 "cells": [
  {
   "cell_type": "markdown",
   "id": "87cd4007",
   "metadata": {},
   "source": [
    "## 1. Вычислите определитель:"
   ]
  },
  {
   "cell_type": "code",
   "execution_count": 7,
   "id": "642b2835",
   "metadata": {},
   "outputs": [
    {
     "name": "stdout",
     "output_type": "stream",
     "text": [
      "Определитель:\n",
      "180\n",
      "Определитель:\n",
      "0\n"
     ]
    },
    {
     "data": {
      "text/plain": [
       "32400"
      ]
     },
     "execution_count": 7,
     "metadata": {},
     "output_type": "execute_result"
    }
   ],
   "source": [
    "import numpy as np\n",
    "# а)\n",
    "# sinx * sinx - cosx * (-cosx) = sin^2x + cos^2x = 1\n",
    "# б)\n",
    "# 4 * 5 * 9, так как матрица лестничная\n",
    "A = np.array([[4, 2, 3], [0, 5, 1], [0, 0, 9]])\n",
    "print(f'Определитель:\\n{np.linalg.det(A):.0f}')\n",
    "# в)\n",
    "# Определитель матрицы равен нулю, так как стороки зависимы между друг другом\n",
    "B = np.array([[1, 2, 3],[4, 5, 6],[7, 8, 9]])\n",
    "print(f'Определитель:\\n{np.linalg.det(B):.0f}')\n",
    "180*180"
   ]
  },
  {
   "cell_type": "markdown",
   "id": "9a2dfe0f",
   "metadata": {},
   "source": [
    "## 2. Определитель матрицы  𝐴  равен  4 . Найдите:\n",
    "\n",
    "а)  𝑑𝑒𝑡(𝐴^2) ; 𝑑𝑒𝑡(𝐴𝐵)=𝑑𝑒𝑡𝐴⋅𝑑𝑒𝑡𝐵. для матриц одинакового размера\n",
    "\n",
    "б)  𝑑𝑒𝑡(𝐴𝑇) ; 𝑑𝑒𝑡𝐴𝑇=𝑑𝑒𝑡𝐴.\n",
    "\n",
    "в)  𝑑𝑒𝑡(2𝐴) ."
   ]
  },
  {
   "cell_type": "markdown",
   "id": "c0f7f082",
   "metadata": {},
   "source": [
    "Ответы к заданию №2\n",
    "\n",
    "а) 4*4=16\n",
    "\n",
    "б) 4\n",
    "\n",
    "в) 2*4=8"
   ]
  },
  {
   "cell_type": "markdown",
   "id": "3945da79",
   "metadata": {},
   "source": [
    "## 3. Докажите, что матрица: вырожденная."
   ]
  },
  {
   "cell_type": "markdown",
   "id": "e79050fa",
   "metadata": {},
   "source": [
    "определитель данной матрицы равен 0, так как ее вторая строка зависит от первой как 1 к -2. Из этого следует, что данная \n",
    "матрица является вырожденной"
   ]
  },
  {
   "cell_type": "markdown",
   "id": "6466dc50",
   "metadata": {},
   "source": [
    "## 4. Найдите ранг матрицы:"
   ]
  },
  {
   "cell_type": "code",
   "execution_count": 33,
   "id": "03471b7e",
   "metadata": {},
   "outputs": [
    {
     "name": "stdout",
     "output_type": "stream",
     "text": [
      "[[1 2 3]\n",
      " [1 1 1]\n",
      " [2 3 4]]\n",
      "\n",
      "[[1 2 3]\n",
      " [1 1 1]]\n",
      "\n",
      "[[ 1  2  3]\n",
      " [ 0 -1 -2]]\n",
      "\n",
      " ранг матрицы Е1 = 2\n"
     ]
    }
   ],
   "source": [
    "import numpy as np\n",
    "E1 = np.array([[1, 2, 3], [1, 1, 1], [2, 3, 4]])\n",
    "# в первой матрице 3 строка является сочитанием первых двух строк, так что ее мы можем отбросить\n",
    "# из второй строки вычтем первую строку и получим ранг матрицы равный  # 2\n",
    "print(E1)\n",
    "E1 = np.delete(E1,(2), axis=0)\n",
    "print(f'\\n{E1}')\n",
    "E1[1] = E1[1] - E1[0]\n",
    "print(f'\\n{E1}')\n",
    "print(f\"\\n ранг матрицы Е1 = {np.linalg.matrix_rank(E1)}\")"
   ]
  },
  {
   "cell_type": "code",
   "execution_count": 50,
   "id": "7d1d69af",
   "metadata": {},
   "outputs": [
    {
     "name": "stdout",
     "output_type": "stream",
     "text": [
      "[[2 3 5 6]\n",
      " [0 0 2 2]\n",
      " [0 0 2 1]]\n",
      "таким образом получаем, что ранг матрицы Е2 = 3\n"
     ]
    }
   ],
   "source": [
    "import numpy as np\n",
    "E2 = np.array([[0, 0, 2, 1], [0, 0, 2, 2], [0, 0, 4, 3], [2, 3, 5, 6]])\n",
    "# 3 строку мы исключаем, так как она является суммой 1 и 2\n",
    "E2 = np.delete(E2, (2), axis=0)\n",
    "# далее для треугольного вида мы меняем местами 1 и 3 строки матрицы\n",
    "E2_t = E2[0].copy() \n",
    "E2[0] = E2[2]\n",
    "E2[2] = E2_t\n",
    "print(E2)\n",
    "print(f\"таким образом получаем, что ранг матрицы Е2 = {np.linalg.matrix_rank(E2)}\")"
   ]
  },
  {
   "cell_type": "code",
   "execution_count": 36,
   "id": "be3bdf74",
   "metadata": {},
   "outputs": [
    {
     "name": "stdout",
     "output_type": "stream",
     "text": [
      "0\n"
     ]
    }
   ],
   "source": [
    "import numpy as np\n",
    "final_matrix = np.zeros((3, 4))\n",
    "print(np.linalg.matrix_rank(final_matrix))"
   ]
  },
  {
   "cell_type": "code",
   "execution_count": null,
   "id": "2afe2e6d",
   "metadata": {},
   "outputs": [],
   "source": []
  }
 ],
 "metadata": {
  "kernelspec": {
   "display_name": "Python 3 (ipykernel)",
   "language": "python",
   "name": "python3"
  },
  "language_info": {
   "codemirror_mode": {
    "name": "ipython",
    "version": 3
   },
   "file_extension": ".py",
   "mimetype": "text/x-python",
   "name": "python",
   "nbconvert_exporter": "python",
   "pygments_lexer": "ipython3",
   "version": "3.10.4"
  }
 },
 "nbformat": 4,
 "nbformat_minor": 5
}
